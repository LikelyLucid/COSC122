{
 "cells": [
  {
   "cell_type": "code",
   "execution_count": 1,
   "metadata": {},
   "outputs": [],
   "source": [
    "class Node:\n",
    "    def __init__(self, data):\n",
    "        self.data = data\n",
    "        self.next_node = None"
   ]
  },
  {
   "cell_type": "code",
   "execution_count": 4,
   "metadata": {},
   "outputs": [],
   "source": [
    "def print_linked_list(nodes):\n",
    "    node = nodes\n",
    "    while node != None:\n",
    "        print(node.data)\n",
    "        node = node.next_node"
   ]
  },
  {
   "cell_type": "code",
   "execution_count": 5,
   "metadata": {},
   "outputs": [
    {
     "name": "stdout",
     "output_type": "stream",
     "text": [
      "10\n",
      "20\n",
      "30\n",
      "40\n"
     ]
    }
   ],
   "source": [
    "head = Node(10)\n",
    "head.next_node = Node(20)\n",
    "head.next_node.next_node = Node(30)\n",
    "head.next_node.next_node.next_node = Node(40)\n",
    "print_linked_list(head)"
   ]
  },
  {
   "cell_type": "code",
   "execution_count": 6,
   "metadata": {},
   "outputs": [
    {
     "name": "stdout",
     "output_type": "stream",
     "text": [
      "y\n",
      "a\n",
      "y\n",
      "a\n",
      "y\n"
     ]
    }
   ],
   "source": [
    "start = Node(\"y\")\n",
    "start.next_node = Node(\"a\")\n",
    "start.next_node.next_node = Node(\"y\")\n",
    "start.next_node.next_node.next_node = Node(\"a\")\n",
    "start.next_node.next_node.next_node.next_node = Node(\"y\")\n",
    "print_linked_list(start)"
   ]
  },
  {
   "cell_type": "code",
   "execution_count": 7,
   "metadata": {},
   "outputs": [
    {
     "name": "stdout",
     "output_type": "stream",
     "text": [
      "10\n",
      "None\n"
     ]
    }
   ],
   "source": [
    "class Node:\n",
    "    def __init__(self, data):\n",
    "        self.data = data\n",
    "        self.next_node = None\n",
    "\n",
    "\n",
    "class UnsortedLinkedList:\n",
    "\n",
    "    def __init__(self):\n",
    "        self.head = None\n",
    "\n",
    "    def add(self, item):\n",
    "        \"\"\"Makes a new node containing item as the data and\n",
    "        adds it to the start of the list, ie, before the\n",
    "        current head\n",
    "        \"\"\"\n",
    "        temp = Node(item)\n",
    "        temp.next_node = self.head\n",
    "        self.head = temp\n",
    "\n",
    "\n",
    "\n",
    "my_list = UnsortedLinkedList()\n",
    "my_list.add(10)\n",
    "print(my_list.head.data)\n",
    "print(my_list.head.next_node)"
   ]
  }
 ],
 "metadata": {
  "kernelspec": {
   "display_name": "Python 3",
   "language": "python",
   "name": "python3"
  },
  "language_info": {
   "codemirror_mode": {
    "name": "ipython",
    "version": 3
   },
   "file_extension": ".py",
   "mimetype": "text/x-python",
   "name": "python",
   "nbconvert_exporter": "python",
   "pygments_lexer": "ipython3",
   "version": "3.11.8"
  }
 },
 "nbformat": 4,
 "nbformat_minor": 2
}
